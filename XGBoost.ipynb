{
 "cells": [
  {
   "cell_type": "code",
   "execution_count": 1,
   "metadata": {},
   "outputs": [],
   "source": [
    "import numpy as np\n",
    "import pandas as pd\n",
    "from datetime import datetime\n",
    "import matplotlib.pyplot as plt\n",
    "\n",
    "from sklearn.preprocessing import StandardScaler\n",
    "from sklearn.preprocessing import MinMaxScaler\n",
    "from sklearn.metrics import mean_squared_error, r2_score, mean_absolute_error\n",
    "from sklearn.model_selection import train_test_split\n",
    "\n",
    "import xgboost as xgb\n",
    "\n",
    "%matplotlib inline"
   ]
  },
  {
   "cell_type": "code",
   "execution_count": 2,
   "metadata": {},
   "outputs": [],
   "source": [
    "def read_data(fn):\n",
    "    data = pd.read_csv(fn)\n",
    "    data[\"Dates\"] = \"\"\n",
    "    data[\"time_rs\"] = 0.0\n",
    "\n",
    "    for i in range(data.shape[0]):\n",
    "        dt = datetime.fromtimestamp(data.iloc[i]['timestamp'] // 1000)\n",
    "        data.at[i, 'Dates'] = dt\n",
    "\n",
    "        m = (data.iloc[i]['sunset'] + data.iloc[i]['sunrise']) // 2\n",
    "\n",
    "        if data.iloc[i]['timestamp'] < m:\n",
    "            time_rs = (data.iloc[i]['timestamp'] - data.iloc[i]['sunrise']) / \\\n",
    "            (m - data.iloc[i]['sunrise'])\n",
    "        else:\n",
    "            time_rs = (data.iloc[i]['sunset'] - data.iloc[i]['timestamp']) / \\\n",
    "            (data.iloc[i]['sunset'] - m)\n",
    "\n",
    "        data.at[i, 'time_rs'] = time_rs\n",
    "\n",
    "    data = data.set_index('Dates')\n",
    "    data = data.drop(['timestamp','sunrise','sunset'], axis=1) \n",
    "\n",
    "    cols = list(data.columns)\n",
    "    a, b = cols.index('pwr'), cols.index('time_rs')\n",
    "    cols[b], cols[a] = cols[a], cols[b]\n",
    "    data = data[cols]\n",
    "    \n",
    "    return data"
   ]
  },
  {
   "cell_type": "code",
   "execution_count": 10,
   "metadata": {},
   "outputs": [],
   "source": [
    "df = read_data('all_owm.csv')\n",
    "\n",
    "data_X = df.drop('pwr', axis = 1)\n",
    "data_Y = df.pwr\n",
    "\n",
    "X_train, X_test, y_train, y_test = train_test_split(data_X, data_Y, test_size=0.3, random_state=7)"
   ]
  },
  {
   "cell_type": "code",
   "execution_count": 11,
   "metadata": {},
   "outputs": [
    {
     "name": "stdout",
     "output_type": "stream",
     "text": [
      "Error metrics of training data\n",
      "RMSE or Root mean squared error: 14.59\n",
      "Mean Absolute Error: 8.81\n",
      "Variance score: 0.89\n",
      "Error metrics of test data\n",
      "RMSE or Root mean squared error: 15.97\n",
      "Mean Absolute Error: 9.69\n",
      "Variance score: 0.86\n"
     ]
    }
   ],
   "source": [
    "regr = xgb.XGBRegressor(\n",
    "    n_estimators=220,\n",
    "    reg_lambda=20,\n",
    "    gamma=0,\n",
    "    max_depth=3,\n",
    "    learning_rate=0.2\n",
    ")\n",
    "regr.fit(X_train, y_train)\n",
    "\n",
    "y_train_hat = regr.predict(X_train)\n",
    "y_test_hat = regr.predict(X_test)\n",
    "\n",
    "print(\"Error metrics of training data\")\n",
    "\n",
    "RMSE = np.sqrt(mean_squared_error(y_train, y_train_hat))\n",
    "print(\"RMSE or Root mean squared error: %.2f\" % RMSE)  \n",
    "\n",
    "MAE = mean_absolute_error(y_train, y_train_hat)\n",
    "print('Mean Absolute Error: %.2f' % MAE)\n",
    "\n",
    "R2 = r2_score(y_train, y_train_hat)\n",
    "print('Variance score: %.2f' % R2 )\n",
    "\n",
    "print(\"Error metrics of test data\")\n",
    "\n",
    "RMSE = np.sqrt(mean_squared_error(y_test, y_test_hat))\n",
    "print(\"RMSE or Root mean squared error: %.2f\" % RMSE)  \n",
    "\n",
    "MAE = mean_absolute_error(y_test, y_test_hat)\n",
    "print('Mean Absolute Error: %.2f' % MAE)\n",
    "\n",
    "R2 = r2_score(y_test, y_test_hat)\n",
    "print('Variance score: %.2f' % R2 )"
   ]
  },
  {
   "cell_type": "code",
   "execution_count": 5,
   "metadata": {},
   "outputs": [
    {
     "data": {
      "text/plain": [
       "<AxesSubplot:title={'center':'Feature importance'}, xlabel='F score', ylabel='Features'>"
      ]
     },
     "execution_count": 5,
     "metadata": {},
     "output_type": "execute_result"
    },
    {
     "data": {
      "image/png": "[encoded data removed]",
      "text/plain": [
       "<Figure size 432x288 with 1 Axes>"
      ]
     },
     "metadata": {
      "needs_background": "light"
     },
     "output_type": "display_data"
    }
   ],
   "source": [
    "xgb.plot_importance(regr)"
   ]
  },
  {
   "cell_type": "code",
   "execution_count": 6,
   "metadata": {},
   "outputs": [],
   "source": [
    "df = read_data('all_owm.csv')\n",
    "\n",
    "# Creating the lag variables\n",
    "for i in range(72,96):\n",
    "    df['lag'+str(i)] = df['pwr'].shift(i)\n",
    "    \n",
    "df_lag = df.dropna()\n",
    "\n",
    "data_X = df_lag.drop('pwr', axis = 1)\n",
    "data_Y = df_lag.pwr\n",
    "\n",
    "X_train, X_test, y_train, y_test = train_test_split(data_X, data_Y, test_size=0.3, random_state=7)"
   ]
  },
  {
   "cell_type": "code",
   "execution_count": 7,
   "metadata": {},
   "outputs": [
    {
     "name": "stdout",
     "output_type": "stream",
     "text": [
      "Error metrics of training data\n",
      "RMSE or Root mean squared error: 10.88\n",
      "Mean Absolute Error: 5.84\n",
      "Variance score: 0.94\n",
      "Error metrics of test data\n",
      "RMSE or Root mean squared error: 13.86\n",
      "Mean Absolute Error: 7.12\n",
      "Variance score: 0.90\n"
     ]
    }
   ],
   "source": [
    "regr = xgb.XGBRegressor(\n",
    "    n_estimators=100,\n",
    "    reg_lambda=1,\n",
    "    gamma=0,\n",
    "    max_depth=3,\n",
    "    learning_rate=0.2\n",
    ")\n",
    "regr.fit(X_train, y_train)\n",
    "\n",
    "y_train_hat = regr.predict(X_train)\n",
    "y_test_hat = regr.predict(X_test)\n",
    "\n",
    "print(\"Error metrics of training data\")\n",
    "\n",
    "RMSE = np.sqrt(mean_squared_error(y_train, y_train_hat))\n",
    "print(\"RMSE or Root mean squared error: %.2f\" % RMSE)  \n",
    "\n",
    "MAE = mean_absolute_error(y_train, y_train_hat)\n",
    "print('Mean Absolute Error: %.2f' % MAE)\n",
    "\n",
    "R2 = r2_score(y_train, y_train_hat)\n",
    "print('Variance score: %.2f' % R2 )\n",
    "\n",
    "print(\"Error metrics of test data\")\n",
    "\n",
    "RMSE = np.sqrt(mean_squared_error(y_test, y_test_hat))\n",
    "print(\"RMSE or Root mean squared error: %.2f\" % RMSE)  \n",
    "\n",
    "MAE = mean_absolute_error(y_test, y_test_hat)\n",
    "print('Mean Absolute Error: %.2f' % MAE)\n",
    "\n",
    "R2 = r2_score(y_test, y_test_hat)\n",
    "print('Variance score: %.2f' % R2 )"
   ]
  },
  {
   "cell_type": "code",
   "execution_count": 8,
   "metadata": {},
   "outputs": [
    {
     "data": {
      "text/plain": [
       "<AxesSubplot:title={'center':'Feature importance'}, xlabel='F score', ylabel='Features'>"
      ]
     },
     "execution_count": 8,
     "metadata": {},
     "output_type": "execute_result"
    },
    {
     "data": {
      "image/png": "[encoded data removed]",
      "text/plain": [
       "<Figure size 432x288 with 1 Axes>"
      ]
     },
     "metadata": {
      "needs_background": "light"
     },
     "output_type": "display_data"
    }
   ],
   "source": [
    "xgb.plot_importance(regr)"
   ]
  },
  {
   "cell_type": "code",
   "execution_count": null,
   "metadata": {},
   "outputs": [],
   "source": []
  }
 ],
 "metadata": {
  "kernelspec": {
   "display_name": "prophet",
   "language": "python",
   "name": "prophet"
  },
  "language_info": {
   "codemirror_mode": {
    "name": "ipython",
    "version": 3
   },
   "file_extension": ".py",
   "mimetype": "text/x-python",
   "name": "python",
   "nbconvert_exporter": "python",
   "pygments_lexer": "ipython3",
   "version": "3.8.5"
  }
 },
 "nbformat": 4,
 "nbformat_minor": 2
}
