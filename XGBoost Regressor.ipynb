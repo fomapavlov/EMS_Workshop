{
 "cells": [
  {
   "cell_type": "markdown",
   "metadata": {},
   "source": [
    "### XGBoost Regressor"
   ]
  },
  {
   "cell_type": "code",
   "execution_count": 1,
   "metadata": {},
   "outputs": [],
   "source": [
    "# Import basic modules\n",
    "import math\n",
    "import numpy as np\n",
    "import pandas as pd\n",
    "from datetime import datetime\n",
    "import matplotlib.pyplot as plt\n",
    "from sklearn.preprocessing import StandardScaler\n",
    "from sklearn.preprocessing import MinMaxScaler\n",
    "from sklearn.metrics import mean_squared_error, r2_score, mean_absolute_error\n",
    "from sklearn.model_selection import train_test_split\n",
    "\n",
    "%matplotlib inline \n",
    "\n",
    "def read_owm_data(fn):\n",
    "    data = pd.read_csv(fn)\n",
    "    data = data.rename(columns=lambda x: x.strip())  \n",
    "    \n",
    "    dates = (data['timestamp']//1000).apply(lambda x: datetime.fromtimestamp(x))\n",
    "    data.insert(loc=0, column='Dates', value=dates)\n",
    "    data = data.set_index('Dates')\n",
    "    data = data.rename(columns={\"pwr\": \"SDGE\"})\n",
    "\n",
    "    time_rs = (data['timestamp'] - data['sunrise']) / (data['sunset'] - data['sunrise'])\n",
    "    data.insert(loc=len(data.columns)-1, column='time_rs', value=time_rs)\n",
    "\n",
    "    sdge = data.drop(['timestamp','sunrise','sunset'], axis=1) \n",
    "    sdge_lin = pd.get_dummies(sdge)\n",
    "    \n",
    "    return sdge_lin, ['temp', 'humidity', 'rain', 'cloud', 'visibility','time_rs']\n",
    "\n",
    "def train_test(data, test_size = 0.15, test_num = -1, scale = False, cols_to_transform=None):\n",
    "    df = data.copy()\n",
    "    \n",
    "    # get the index after which test set starts\n",
    "    if test_num == -1:\n",
    "        test_index = int(len(df)*(1-test_size))\n",
    "    else:\n",
    "        test_index = len(df) - test_num\n",
    "    \n",
    "    # StandardScaler fit on the entire dataset\n",
    "    if scale:\n",
    "        scaler = StandardScaler()\n",
    "        df[cols_to_transform] = scaler.fit_transform(df[cols_to_transform])\n",
    "        \n",
    "    X_train = df.drop('SDGE', axis = 1).iloc[:test_index]\n",
    "    y_train = df.SDGE.iloc[:test_index]\n",
    "    X_test = df.drop('SDGE', axis = 1).iloc[test_index:]\n",
    "    y_test = df.SDGE.iloc[test_index:]    \n",
    "    \n",
    "    return X_train, X_test, y_train, y_test\n",
    "\n",
    "def train_test_rand(data, test_size = 0.15, scale = False, cols_to_transform=None):\n",
    "    df = data.copy()\n",
    "    \n",
    "    # StandardScaler fit on the entire dataset\n",
    "    if scale:\n",
    "        scaler = StandardScaler()\n",
    "        df[cols_to_transform] = scaler.fit_transform(df[cols_to_transform])\n",
    "        \n",
    "    data_X = df.drop('SDGE', axis = 1)\n",
    "    data_Y = df.SDGE\n",
    "    X_train0, X_test0, y_train0, y_test0 = train_test_split(data_X, data_Y, test_size=test_size, random_state=7)\n",
    "    \n",
    "    X_train = X_train0.copy(deep=True)\n",
    "    X_test = X_test0.copy(deep=True)\n",
    "    y_train = y_train0.copy(deep=True)\n",
    "    y_test = y_test0.copy(deep=True)    \n",
    "    \n",
    "    return X_train, X_test, y_train, y_test\n",
    "\n",
    "def error_metrics(y_pred, y_truth, model_name = None):\n",
    "    if isinstance(y_pred, np.ndarray):\n",
    "        y_pred = y_pred\n",
    "    else:\n",
    "        y_pred = y_pred.to_numpy()\n",
    "        \n",
    "    if isinstance(y_truth, np.ndarray):\n",
    "        y_truth = y_truth\n",
    "    else:\n",
    "        y_truth = y_truth.to_numpy()\n",
    "        \n",
    "    print('\\nError metrics for model {}'.format(model_name))\n",
    "    \n",
    "    RMSE = np.sqrt(mean_squared_error(y_truth, y_pred))\n",
    "    print(\"RMSE or Root mean squared error: %.2f\" % RMSE)  \n",
    "\n",
    "    MAE = mean_absolute_error(y_truth, y_pred)\n",
    "    print('Mean Absolute Error: %.2f' % MAE)\n",
    "    \n",
    "    # Explained variance score: 1 is perfect prediction\n",
    "    R2 = r2_score(y_truth, y_pred)\n",
    "    print('Variance score: %.2f' % R2 )\n",
    "    \n",
    "    name_error = ['model', 'RMSE', 'MAE', 'R2']\n",
    "    value_error = [model_name, RMSE, MAE, R2]\n",
    "    list_error = list(zip(name_error, value_error))\n",
    "    \n",
    "    # Creating an empty dict to save all the erros from different models\n",
    "    dict_error = dict()\n",
    "    \n",
    "    for error in list_error:\n",
    "        dict_error[error[0]] = error[1]\n",
    "        \n",
    "    return(dict_error)"
   ]
  },
  {
   "cell_type": "code",
   "execution_count": 2,
   "metadata": {},
   "outputs": [],
   "source": [
    "sdge_lin,cols_to_transform = read_owm_data('all_owm.csv')\n",
    "X_train, X_test, y_train, y_test = train_test_rand(sdge_lin, test_size = 0.3, scale = False, cols_to_transform=cols_to_transform)"
   ]
  },
  {
   "cell_type": "markdown",
   "metadata": {},
   "source": [
    "#### XGBoost without lag data"
   ]
  },
  {
   "cell_type": "code",
   "execution_count": 3,
   "metadata": {},
   "outputs": [],
   "source": [
    "import xgboost as xgb"
   ]
  },
  {
   "cell_type": "code",
   "execution_count": 47,
   "metadata": {},
   "outputs": [
    {
     "name": "stdout",
     "output_type": "stream",
     "text": [
      "\n",
      "Error metrics for model Training data\n",
      "RMSE or Root mean squared error: 14.23\n",
      "Mean Absolute Error: 8.54\n",
      "Variance score: 0.89\n",
      "\n",
      "Error metrics for model Test data\n",
      "RMSE or Root mean squared error: 15.08\n",
      "Mean Absolute Error: 9.15\n",
      "Variance score: 0.88\n"
     ]
    },
    {
     "data": {
      "text/plain": [
       "{'model': 'Test data',\n",
       " 'RMSE': 15.076293782954552,\n",
       " 'MAE': 9.145081059094831,\n",
       " 'R2': 0.8768323791244249}"
      ]
     },
     "execution_count": 47,
     "metadata": {},
     "output_type": "execute_result"
    }
   ],
   "source": [
    "regr = xgb.XGBRegressor(\n",
    "    n_estimators=100,\n",
    "    reg_lambda=1,\n",
    "    gamma=0,\n",
    "    max_depth=3,\n",
    "    learning_rate=0.2\n",
    ")\n",
    "regr.fit(X_train, y_train)\n",
    "\n",
    "y_hat = regr.predict(X_train)\n",
    "error_metrics(y_hat, y_train, 'Training data')\n",
    "\n",
    "y_hat = regr.predict(X_test)\n",
    "error_metrics(y_hat, y_test, 'Test data')"
   ]
  },
  {
   "cell_type": "code",
   "execution_count": 13,
   "metadata": {},
   "outputs": [
    {
     "data": {
      "text/plain": [
       "<AxesSubplot:title={'center':'Feature importance'}, xlabel='F score', ylabel='Features'>"
      ]
     },
     "execution_count": 13,
     "metadata": {},
     "output_type": "execute_result"
    },
    {
     "data": {
      "image/png": "[encoded data removed]",
      "text/plain": [
       "<Figure size 432x288 with 1 Axes>"
      ]
     },
     "metadata": {
      "needs_background": "light"
     },
     "output_type": "display_data"
    }
   ],
   "source": [
    "xgb.plot_importance(regr)"
   ]
  },
  {
   "cell_type": "markdown",
   "metadata": {},
   "source": [
    "#### XGBoost with lag data"
   ]
  },
  {
   "cell_type": "code",
   "execution_count": 49,
   "metadata": {},
   "outputs": [],
   "source": [
    "lag_day = 2\n",
    "\n",
    "# Creating the lag variables\n",
    "for i in range(24):\n",
    "    sdge_lin['lag'+str(i+1)] = sdge_lin['SDGE'].shift(lag_day * 24 + i + 1)\n",
    "    \n",
    "lag_sdge = sdge_lin.dropna()\n",
    "X_train, X_test, y_train, y_test = train_test_rand(lag_sdge, test_size = 0.3, scale = False, cols_to_transform=cols_to_transform)"
   ]
  },
  {
   "cell_type": "code",
   "execution_count": 74,
   "metadata": {},
   "outputs": [
    {
     "name": "stdout",
     "output_type": "stream",
     "text": [
      "\n",
      "Error metrics for model Training data\n",
      "RMSE or Root mean squared error: 8.67\n",
      "Mean Absolute Error: 4.46\n",
      "Variance score: 0.96\n",
      "\n",
      "Error metrics for model Test data\n",
      "RMSE or Root mean squared error: 14.48\n",
      "Mean Absolute Error: 7.26\n",
      "Variance score: 0.89\n"
     ]
    },
    {
     "data": {
      "text/plain": [
       "{'model': 'Test data',\n",
       " 'RMSE': 14.484635137506862,\n",
       " 'MAE': 7.261116265342561,\n",
       " 'R2': 0.8919670542194466}"
      ]
     },
     "execution_count": 74,
     "metadata": {},
     "output_type": "execute_result"
    }
   ],
   "source": [
    "regr = xgb.XGBRegressor(\n",
    "    n_estimators=100,\n",
    "    reg_lambda=2.0,\n",
    "    gamma=0.9,\n",
    "    max_depth=6,\n",
    "    learning_rate=0.05\n",
    ")\n",
    "regr.fit(X_train, y_train)\n",
    "\n",
    "y_hat = regr.predict(X_train)\n",
    "error_metrics(y_hat, y_train, 'Training data')\n",
    "\n",
    "y_hat = regr.predict(X_test)\n",
    "error_metrics(y_hat, y_test, 'Test data')"
   ]
  },
  {
   "cell_type": "code",
   "execution_count": 77,
   "metadata": {},
   "outputs": [
    {
     "data": {
      "text/plain": [
       "<AxesSubplot:title={'center':'Feature importance'}, xlabel='F score', ylabel='Features'>"
      ]
     },
     "execution_count": 77,
     "metadata": {},
     "output_type": "execute_result"
    },
    {
     "data": {
      "image/png": "[encoded data removed]",
      "text/plain": [
       "<Figure size 864x504 with 1 Axes>"
      ]
     },
     "metadata": {
      "needs_background": "light"
     },
     "output_type": "display_data"
    }
   ],
   "source": [
    "plt.rcParams['figure.figsize'] = [12, 7]\n",
    "xgb.plot_importance(regr)"
   ]
  },
  {
   "cell_type": "code",
   "execution_count": null,
   "metadata": {},
   "outputs": [],
   "source": []
  }
 ],
 "metadata": {
  "kernelspec": {
   "display_name": "prophet",
   "language": "python",
   "name": "prophet"
  },
  "language_info": {
   "codemirror_mode": {
    "name": "ipython",
    "version": 3
   },
   "file_extension": ".py",
   "mimetype": "text/x-python",
   "name": "python",
   "nbconvert_exporter": "python",
   "pygments_lexer": "ipython3",
   "version": "3.8.5"
  }
 },
 "nbformat": 4,
 "nbformat_minor": 2
}
